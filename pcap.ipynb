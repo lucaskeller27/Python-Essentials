{
 "cells": [
  {
   "attachments": {},
   "cell_type": "markdown",
   "metadata": {},
   "source": [
    "Curso Python Essentials"
   ]
  },
  {
   "attachments": {},
   "cell_type": "markdown",
   "metadata": {},
   "source": [
    "/ Module 2.1"
   ]
  },
  {
   "cell_type": "code",
   "execution_count": null,
   "metadata": {},
   "outputs": [],
   "source": [
    "# '\\' > error\n",
    "# '\\\\' > \\\n",
    "print(\"\\\\\")"
   ]
  },
  {
   "cell_type": "code",
   "execution_count": null,
   "metadata": {},
   "outputs": [],
   "source": [
    "# \",\" adds spaces before and after the argument by default, while \"+\" does not\n",
    "print(\"I took\", \"the wock\", \"to Poland\")"
   ]
  },
  {
   "attachments": {},
   "cell_type": "markdown",
   "metadata": {},
   "source": [
    "There are two keyword arguments for the print() function, the two of them being \"end=''\" and \"sep=''\", \"sep\" standing for separate.\n",
    "\n",
    "\"end=''\" changes the characters that come at the end of the print() function from the default \"\\n\" to whatever argument is given.\n",
    "\n",
    "And \"sep=''\" changes the characters separating each string in a single print() function, from the default blank space to whatever argument is given.\n",
    "\n",
    "The two keyword arguments can be used in the same print() function."
   ]
  },
  {
   "cell_type": "code",
   "execution_count": null,
   "metadata": {},
   "outputs": [],
   "source": [
    "print(\"Put your hands to the constellations,\", end=\" \")\n",
    "print(\"the way you look should be a sin, you're my sensation\") "
   ]
  },
  {
   "cell_type": "code",
   "execution_count": null,
   "metadata": {},
   "outputs": [],
   "source": [
    "# even a void end=\"\" prevents the default line break, although in this case it's better to add spaces at the end of the strings\n",
    "print(\"I know I'm preaching to the congregation \" , end=\"\")\n",
    "print(\"we love Jesus, but you done learned a lot from Satan\")"
   ]
  },
  {
   "cell_type": "code",
   "execution_count": null,
   "metadata": {},
   "outputs": [],
   "source": [
    "print(\"Devil\", \"in\", \"a\", \"New\", \"Dress\", sep=\"-\")"
   ]
  },
  {
   "attachments": {},
   "cell_type": "markdown",
   "metadata": {},
   "source": [
    "Literals in Python are data types whose value is determined by the literal itself. \n",
    "\n",
    "\"123\" is a literal, since it's value is self-explanatory, one hundred and twenty three. \"c\" is not a literal, since it's value is subjective."
   ]
  },
  {
   "attachments": {},
   "cell_type": "markdown",
   "metadata": {},
   "source": [
    "Both print(\"2\") and print(2) give the same result. \n",
    "\n",
    "This happens because the input given on the second print function is an integer, that unlike strings, can be understood by Python without quotation marks."
   ]
  },
  {
   "attachments": {},
   "cell_type": "markdown",
   "metadata": {},
   "source": [
    "/ Module 2.2"
   ]
  },
  {
   "attachments": {},
   "cell_type": "markdown",
   "metadata": {},
   "source": [
    "Python does not accept integer type numbers to be written separated with dots or commas, such as \"1.234.567\", or \"1,234,567\".\n",
    "\n",
    "However, Python does allow users to replace the dots and commas, so commonly used in real life, for underscores, such as \"1_234_567\", or even \"-12_345\"."
   ]
  },
  {
   "attachments": {},
   "cell_type": "markdown",
   "metadata": {},
   "source": [
    "The \"0o\" prefix added into the print() function, turns numbers given as arguments into octals.\n",
    "\n",
    "The \"0x\" prefix in other hand, turns numbers into hexadecimals."
   ]
  },
  {
   "cell_type": "code",
   "execution_count": null,
   "metadata": {},
   "outputs": [],
   "source": [
    "print(0x120)"
   ]
  },
  {
   "attachments": {},
   "cell_type": "markdown",
   "metadata": {},
   "source": [
    "For floating-point numbers, it's important not to use commas to separate the decimal part, using only dots."
   ]
  },
  {
   "attachments": {},
   "cell_type": "markdown",
   "metadata": {},
   "source": [
    "The number \"0.4\", for example, can also be written as \".4\", as can \"4.0\" be written as \"4.\".\n",
    "\n",
    "Python also accepts scientific notation as input, as \"300000000\" [3 followed by 8 zeros] has the same value as 3E8, or 3e8, that equals \"3 x 10^8\".\n",
    "\n",
    "The exponent (value after \"e\") must be an integer, while the base (value before \"e\") can be an integer, but isn't required to be one."
   ]
  },
  {
   "cell_type": "markdown",
   "metadata": {},
   "source": []
  }
 ],
 "metadata": {
  "kernelspec": {
   "display_name": "Python 3",
   "language": "python",
   "name": "python3"
  },
  "language_info": {
   "codemirror_mode": {
    "name": "ipython",
    "version": 3
   },
   "file_extension": ".py",
   "mimetype": "text/x-python",
   "name": "python",
   "nbconvert_exporter": "python",
   "pygments_lexer": "ipython3",
   "version": "3.11.2"
  },
  "orig_nbformat": 4
 },
 "nbformat": 4,
 "nbformat_minor": 2
}
