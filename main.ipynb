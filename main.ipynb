{
 "cells": [
  {
   "attachments": {},
   "cell_type": "markdown",
   "metadata": {},
   "source": [
    "# Python Essentials"
   ]
  },
  {
   "attachments": {},
   "cell_type": "markdown",
   "metadata": {},
   "source": [
    "## Module 1 - Course introduction"
   ]
  },
  {
   "attachments": {},
   "cell_type": "markdown",
   "metadata": {},
   "source": [
    "### Section 1.1 - Introduction to programming"
   ]
  },
  {
   "attachments": {},
   "cell_type": "markdown",
   "metadata": {},
   "source": [
    "#### Programming languages"
   ]
  },
  {
   "attachments": {},
   "cell_type": "markdown",
   "metadata": {},
   "source": [
    "A computer by itself is only able to perform extremely simple operations. Programs are what allow computers to perform more complex tasks."
   ]
  },
  {
   "attachments": {},
   "cell_type": "markdown",
   "metadata": {},
   "source": [
    "Languages (not just programming ones, but languages in general) consist of the following elements:\n",
    "\n",
    "* Alphabet - a set of symbols that make up the words in the language (e.g., English - Latin alphabet; Russian - Cyrillic alphabet, etc.)\n",
    "\n",
    "* Lexis - a set of words that make up the vocabulary of the language\n",
    "\n",
    "* Syntax - a set of rules that determine if a certain sequence of words forms a valid sentence\n",
    "\n",
    "* Semantics - a set of rules that determine if a certain sentence makes sense"
   ]
  },
  {
   "attachments": {},
   "cell_type": "markdown",
   "metadata": {},
   "source": [
    "Computers have their own rudimentary language, called machine language, and they can respond only to a predetermined set of commands, called an instruction list, or IL.\n",
    "\n",
    "The IL is the alphabet of a machine language, as it is the computer's mother tongue."
   ]
  },
  {
   "attachments": {},
   "cell_type": "markdown",
   "metadata": {},
   "source": [
    "Machine language is, however, very distant from human languages, and that's were the high-level programming languages come in.\n",
    "\n",
    "They're the solution to this problem, as they're languages where we can write code that is understandable to us, and than can be used by computers to execute programs.\n",
    "\n",
    "A program written in a high-level programming language is called source code, and the file containing said code is the source file."
   ]
  },
  {
   "attachments": {},
   "cell_type": "markdown",
   "metadata": {},
   "source": [
    "#### Compiled vs Interpreted languages"
   ]
  },
  {
   "attachments": {},
   "cell_type": "markdown",
   "metadata": {},
   "source": [
    "There are two ways to convert code from a high-level programming language to machine language: compilation and interpretation.\n",
    "\n",
    "* Compilation - The code is converted once through a compiler into a file (e.g., an .exe file if the code was built for Windows) containing the machine code. This file is ready to be distributed.\n",
    "\n",
    "* Interpretation - The user converts the code using an interpreter every time it is executed. The code can't be distributed as-is, since the end-user will also need the interpreter to execute it."
   ]
  },
  {
   "attachments": {},
   "cell_type": "markdown",
   "metadata": {},
   "source": [
    "The interpreter reads the code from top to bottom and left to right, with a few exceptions. It then checks if all lines of code are correct, alphabetically, lexically, syntactically, and semantically."
   ]
  },
  {
   "attachments": {},
   "cell_type": "markdown",
   "metadata": {},
   "source": [
    "If the program finds and error, it halts immediately, and gives an error message. It will inform where the error is, and what caused it. \n",
    "    \n",
    "This can be misleading, as it can often detect errors at some distance from the part that caused said error."
   ]
  },
  {
   "attachments": {},
   "cell_type": "markdown",
   "metadata": {},
   "source": [
    "Both compiled and interpreted languages have pros and cons, some of which will be listed below."
   ]
  },
  {
   "attachments": {},
   "cell_type": "markdown",
   "metadata": {},
   "source": [
    "* Compilation\n",
    "    * Pro - code is usually executed faster\n",
    "    * Pro - only the user needs the compiler\n",
    "    * Pro - the converted code is stored using machine language, that is very hard to understand, and will likely leave the code itself concealed\n",
    "    * Con - the compilation can take a long time\n",
    "    * Con - you need multiple compilers to run code on multiple hardware platforms"
   ]
  },
  {
   "attachments": {},
   "cell_type": "markdown",
   "metadata": {},
   "source": [
    "\n",
    "* Interpretation\n",
    "    * Pro - the code can be run as soon as it is completed\n",
    "    * Pro - the code is stored using programming, and not machine, language, allowing it run on platforms using different machine languages\n",
    "    * Con - the code will share the computer's power with the interpreter, often slowing it down\n",
    "    * Con - both the user and the end-user need the interpreter to run the code"
   ]
  },
  {
   "attachments": {},
   "cell_type": "markdown",
   "metadata": {},
   "source": [
    "Python is an interpreted language, requiring the Python interpreter to have its code run.\n",
    "\n",
    "Languages designed to be interpreted are called scripting languages, and the source programs encoded using them are called scripts."
   ]
  },
  {
   "attachments": {},
   "cell_type": "markdown",
   "metadata": {},
   "source": [
    "### Section 1.2 - Introduction to Python"
   ]
  },
  {
   "attachments": {},
   "cell_type": "markdown",
   "metadata": {},
   "source": [
    "#### About Python"
   ]
  },
  {
   "attachments": {},
   "cell_type": "markdown",
   "metadata": {},
   "source": [
    "Python is an interpreted, object-oriented, and high-level programming language. It has dynamic semantics, and is used for general-purpose programming."
   ]
  },
  {
   "attachments": {},
   "cell_type": "markdown",
   "metadata": {},
   "source": [
    "The name pays homage to an old BBC comedy series called Monty Python's Flying Circus.\n",
    "\n",
    "The language was created by dutchman Guido van Rossum."
   ]
  },
  {
   "attachments": {},
   "cell_type": "markdown",
   "metadata": {},
   "source": [
    "In 1999, van Rossum defined his four goals for Python:\n",
    "* an easy and intuitive language, just as powerful as its competitors\n",
    "* open source, so anyone can contribute to its development\n",
    "* code as understandable as plain English\n",
    "* suitable for everyday tasks, allowing for short development times"
   ]
  },
  {
   "attachments": {},
   "cell_type": "markdown",
   "metadata": {},
   "source": [
    "Python is one of the most popular programming languages that exist, and these are some of the reasons why:\n",
    "* it's easy to learn and easy to teach\n",
    "* it's easy to use, and often faster to code in\n",
    "* it's more simple and easy to understand\n",
    "* it's free and easy to obtain, install, and deploy"
   ]
  },
  {
   "attachments": {},
   "cell_type": "markdown",
   "metadata": {},
   "source": [
    "Python can be seen in action almost everywhere. It's used extensively to implement internet services like search engines, cloud storage, social media, etc.\n",
    "\n",
    "Many developing tools and everyday-use applications are being implemented and written in Python. Lots of scientists have also switched expensive proprietary tools for Python. "
   ]
  },
  {
   "attachments": {},
   "cell_type": "markdown",
   "metadata": {},
   "source": [
    "Python however, is not very used for low-level programming, or mobile applications, although the latter is likely to change in the near future."
   ]
  },
  {
   "attachments": {},
   "cell_type": "markdown",
   "metadata": {},
   "source": [
    "#### Python versions and implementations"
   ]
  },
  {
   "attachments": {},
   "cell_type": "markdown",
   "metadata": {},
   "source": [
    "There are two main Python versions, Python 2 and Python 3. They aren't compatible with each other.\n",
    "\n",
    "Python 2 is an older version of the original Python. Its development has been intentionally stalled, but it still gets regular updates nevertheless.\n",
    "\n",
    "Python 3 is the newer and current version of the language. It's going through its own evolutionary path, differing from Python 2 and creating its own standards and habits."
   ]
  },
  {
   "attachments": {},
   "cell_type": "markdown",
   "metadata": {},
   "source": [
    "They can seem the same, but are completely different languages, despite being similar to each other, as Python 3 isn't just a better version of Python 2.\n",
    "\n",
    "Old Python solutions are highly likely to be coded in Python 2. This is the reason why Python 2 is still in use, as there are too many applications still using it to discard it altogether."
   ]
  },
  {
   "attachments": {},
   "cell_type": "markdown",
   "metadata": {},
   "source": [
    "There are many versions of both Python 2 and 3. Implementations are programs or environments that provide support for the execution of Python programs.\n",
    "\n",
    "CPython is the traditional Python implementation, and is usually just called \"Python\". Sometimes it is called CPython just to distinguish it from other alternative implementations.\n",
    "\n",
    "The Python Software Foundation (PSF) provides maintenance to some of the \"canonical\" Python implementations. \n",
    "\n",
    "Guido van Rossum used C to implement the first versoin of Python, and this tradition is maintained throughout the other Python implementations. \n",
    "\n",
    "The main reason for this is that because of this, Python can be easily migrated to all platforms able to compile and run programs written in C."
   ]
  },
  {
   "attachments": {},
   "cell_type": "markdown",
   "metadata": {},
   "source": [
    "These are some of the other popular alternative Python implementations:"
   ]
  },
  {
   "attachments": {},
   "cell_type": "markdown",
   "metadata": {},
   "source": [
    "\n",
    "Cython is a solution to one of Python's main problems, its lack of efficiency. Complex mathematical calculations are easier to code in Python, but executing the code can be veryt time-consuming.\n",
    "\n",
    "This implementation automatically translates the clean but slow Python code, into complex but fast C code."
   ]
  },
  {
   "attachments": {},
   "cell_type": "markdown",
   "metadata": {},
   "source": [
    "Jython (\"J\" standing for Java) is another useful Python extension. This is a version of Python written in Java instead of C, that can communicate with existing Java infrastructure more effectively. \n",
    "\n",
    "It allows you to delevop large and complex Java systems, and add some Python flexibility to them. However, it follows Python 2 standards, and is unavailable for Python 3."
   ]
  },
  {
   "attachments": {},
   "cell_type": "markdown",
   "metadata": {},
   "source": [
    "PyPy is a Python environment written in Python-like language, called RPython (Restricted Python), being a subset of Python.\n",
    "\n",
    "Its source code is not interpreted, but is translated into C, and executed separately. \n",
    "\n",
    "It is useful being easier than CPython for testing new features that may be introduced into mainstream Python implementation. PyPy is also compatible with Python 3."
   ]
  },
  {
   "attachments": {},
   "cell_type": "markdown",
   "metadata": {},
   "source": [
    "MicroPython is an open source software Python 3 implementation for running microcontrollers. \n",
    "\n",
    "It contains a small subset of the Python Standard Library, but has a large pack of features like interactive prompt, arbitrary precision integers, and modules that give access to low-level hardware.\n",
    "\n",
    "It was used to create CircuitPython, another open source programming language that runs on the microcontroller hardware, and a derivative of MicroPython."
   ]
  },
  {
   "attachments": {},
   "cell_type": "markdown",
   "metadata": {},
   "source": [
    "## Module 2 - Data types, variables, operators, and more"
   ]
  },
  {
   "attachments": {},
   "cell_type": "markdown",
   "metadata": {},
   "source": [
    "### Section 2.1 - The `print()` function"
   ]
  },
  {
   "attachments": {},
   "cell_type": "markdown",
   "metadata": {},
   "source": [
    "#### Functions in Python"
   ]
  },
  {
   "attachments": {},
   "cell_type": "markdown",
   "metadata": {},
   "source": [
    "Functions are parts of code that can cause certain effects (e.g., printing text, creating files, etc.) and evaluate and return values (e.g., the square root of a value or the length of some text).\n",
    "\n",
    "These functions can come from Python itself, being built into the language, from Python add-ons, called modules, or from your own code, writing them yourself."
   ]
  },
  {
   "attachments": {},
   "cell_type": "markdown",
   "metadata": {},
   "source": [
    "In addition to the effects and results, there is a third crucial function component, the arguments. Functions can take any number of arguments, including zero, as some functions don't require any arguments.\n",
    "\n",
    "Take as an example `print(\"Good morning\")`. Here, the function is given a single argument, the string \"Good morning\".\n",
    "\n",
    "The parentheses in the function are what contain the arguments, and they're always mandatory. Even if the function doesn't have any arguments, the empty parentheses are still required.\n",
    "\n",
    "The string given as an argument in the example above is delimited by the quotes. They define that the text in between them is not code, but a string."
   ]
  },
  {
   "attachments": {},
   "cell_type": "markdown",
   "metadata": {},
   "source": [
    "Although the `print()` function doesn't return any value, its effect takes its arguments, converts it into readble text (not needed if the argument is a string) and sends the result to the output device.\n",
    "\n",
    "It can use virtually any value as an argument, such as strings, numbers, characters, logical values, objects, etc."
   ]
  },
  {
   "attachments": {},
   "cell_type": "markdown",
   "metadata": {},
   "source": [
    "In Python, unlike most programming languages, there is a maximum limit of one instruction per line. \n",
    "\n",
    "There is a single exception to this rule, as Python allows for one instruction to spread across more than one line."
   ]
  },
  {
   "cell_type": "code",
   "execution_count": null,
   "metadata": {},
   "outputs": [],
   "source": [
    "# Commas add spaces before and after the argument by default, while plus signs don't\n",
    "print(\"Put your hands\", \"to the\", \"constellations\")\n",
    "print(\"Put your hands\" + \"to the\" + \"constellations\")"
   ]
  },
  {
   "attachments": {},
   "cell_type": "markdown",
   "metadata": {},
   "source": [
    "The `print()` function, by default, prints its output in a new line each time it's executed. This behaviour can be changed, however.\n",
    "\n",
    "`print()`, with no arguments given, prints a new line, but there is a more practical way of doing so, by using the \\n command."
   ]
  },
  {
   "cell_type": "code",
   "execution_count": null,
   "metadata": {},
   "outputs": [],
   "source": [
    "print(\"1 \\n2 \\n3\")"
   ]
  },
  {
   "attachments": {},
   "cell_type": "markdown",
   "metadata": {},
   "source": [
    "\"n\" stands for \"newline\", and the backslash is responsible for informing Python that the \"n\" is a command, not part of the string."
   ]
  },
  {
   "attachments": {},
   "cell_type": "markdown",
   "metadata": {},
   "source": [
    "#### The escape character & keyword arguments"
   ]
  },
  {
   "attachments": {},
   "cell_type": "markdown",
   "metadata": {},
   "source": [
    "The backslash (`\\`) in Python is an escape character, which means that it tells Python that the next character will have a special meaning.\n",
    "\n",
    "As showed below, if you want to print a backslash, you must give two backslashes as input, otherwise Python returns an error."
   ]
  },
  {
   "cell_type": "code",
   "execution_count": null,
   "metadata": {},
   "outputs": [],
   "source": [
    "# \"\\\" = error\n",
    "# \"\\\\\" = \\\n",
    "print(\"\\\\\")"
   ]
  },
  {
   "attachments": {},
   "cell_type": "markdown",
   "metadata": {},
   "source": [
    "`[continue from 2.1.10]`"
   ]
  },
  {
   "attachments": {},
   "cell_type": "markdown",
   "metadata": {},
   "source": [
    "There are two keyword arguments for the `print()` function, the two of them being `end=\"\"` and `sep=\"\"`, \"sep\" standing for separate.\n",
    "\n",
    "`end=\"\"` changes the characters that come at the end of the `print()` function from the default `\\n` to whatever argument is given.\n",
    "\n",
    "And `sep=\"\"` changes the characters separating each string in a single `print()` function, from the default blank space to whatever argument is given.\n",
    "\n",
    "The two keyword arguments can be used in the same `print()` function."
   ]
  },
  {
   "cell_type": "code",
   "execution_count": null,
   "metadata": {},
   "outputs": [],
   "source": [
    "print(\"Put your hands to the constellations,\", end=\" \")\n",
    "print(\"the way you look should be a sin, you're my sensation\") "
   ]
  },
  {
   "cell_type": "code",
   "execution_count": null,
   "metadata": {},
   "outputs": [],
   "source": [
    "# even a void end=\"\" prevents the default line break, although in this case it's better to add spaces at the end of the strings\n",
    "print(\"I know I'm preaching to the congregation \" , end=\"\")\n",
    "print(\"we love Jesus, but you done learned a lot from Satan\")"
   ]
  },
  {
   "cell_type": "code",
   "execution_count": null,
   "metadata": {},
   "outputs": [],
   "source": [
    "print(\"Devil\", \"in\", \"a\", \"New\", \"Dress\", sep=\"-\")"
   ]
  },
  {
   "attachments": {},
   "cell_type": "markdown",
   "metadata": {},
   "source": [
    "### Section 2.2 - Literals"
   ]
  },
  {
   "attachments": {},
   "cell_type": "markdown",
   "metadata": {},
   "source": [
    "#### Overview"
   ]
  },
  {
   "attachments": {},
   "cell_type": "markdown",
   "metadata": {},
   "source": [
    "Literals in Python are data types whose value is determined by the literal itself. \n",
    "\n",
    "`\"123\"` is a literal, since it's value is self-explanatory, one hundred and twenty three. `\"c\"` is not a literal, since it's value is subjective."
   ]
  },
  {
   "attachments": {},
   "cell_type": "markdown",
   "metadata": {},
   "source": [
    "Both `print(\"2\")` and `print(2)` give the same result. \n",
    "\n",
    "This happens because the input given on the second print function is an integer, that unlike strings, can be understood by Python without quotation marks."
   ]
  },
  {
   "attachments": {},
   "cell_type": "markdown",
   "metadata": {},
   "source": [
    "The numeric system we use to represent our numbers is the decimal system, that has 9 as its base, having 9 algarisms, from 0 to 9. \n",
    "\n",
    "There are many other numeric systems, the most known other ones being the binary, octal, and hexadecimal systems."
   ]
  },
  {
   "attachments": {},
   "cell_type": "markdown",
   "metadata": {},
   "source": [
    "The binary system has 2 as its base, and has two algarisms, 0 and 1. The octal system has 8 as its base, with 8 algarisms, from 0 to 7.\n",
    "\n",
    "The hexadecimal system has 16 as its base, having 16 algarisms, from 0 to 9, and from A to F, the letters equaling 10 to 15 in the decimal numeric system, respectively."
   ]
  },
  {
   "attachments": {},
   "cell_type": "markdown",
   "metadata": {},
   "source": [
    "There are two type of numbers in Python. The first type are integers, or ints, whole numbers. The second type are floating-points, or floats, numbers that (can) contain decimals.\n",
    "\n",
    "Integers are numbers that have no specified decimal value, such as `1`, or `2`. \n",
    "\n",
    "Any number that has a potential decimal value is not an integer, but a floating-point, like `4.5` or even `1.0`.\n",
    "\n",
    "\"Potential\" means that even if a float's decimal value equals zero, for Python, it still has a decimal value, even though it's void."
   ]
  },
  {
   "attachments": {},
   "cell_type": "markdown",
   "metadata": {},
   "source": [
    "#### Integers"
   ]
  },
  {
   "attachments": {},
   "cell_type": "markdown",
   "metadata": {},
   "source": [
    "Python does not accept integer type numbers to be written separated with dots or commas, such as \"1.234.567\", or \"1,234,567\".\n",
    "\n",
    "However, Python does allow users to replace the dots and commas, so commonly used in real life, for underscores, such as `\"1_234_567\"`, or even `\"-12_345\"`."
   ]
  },
  {
   "attachments": {},
   "cell_type": "markdown",
   "metadata": {},
   "source": [
    "The `0o` prefix added into the `print()` function, converts integers given as arguments into octals.\n",
    "\n",
    "The `0x` prefix in other hand, converts integers into hexadecimals."
   ]
  },
  {
   "cell_type": "code",
   "execution_count": null,
   "metadata": {},
   "outputs": [],
   "source": [
    "print(0x120)"
   ]
  },
  {
   "attachments": {},
   "cell_type": "markdown",
   "metadata": {},
   "source": [
    "#### Floats"
   ]
  },
  {
   "attachments": {},
   "cell_type": "markdown",
   "metadata": {},
   "source": [
    "For floats, it's important not to use commas to separate the decimal part, using only dots."
   ]
  },
  {
   "attachments": {},
   "cell_type": "markdown",
   "metadata": {},
   "source": [
    "The number 0.4, for example, can also be written as `.4`, as can \"4.0\" be written as '`4.`'.\n",
    "\n",
    "Python also accepts scientific notation as input, as \"300000000\" has the same value as `3E8`, or `3e8`, that equals \"3 x 10^8\".\n",
    "\n",
    "The exponent (value after `e`) must be an integer, but the base (value before `e`) can be an integer or a float."
   ]
  },
  {
   "attachments": {},
   "cell_type": "markdown",
   "metadata": {},
   "source": [
    "Python also has a similar way of representing miniscule numbers that are very close to zero.\n",
    "\n",
    "The Planck constant for example (6.62607 x 10^-34), can be written in Python as `6.62607e-34`."
   ]
  },
  {
   "attachments": {},
   "cell_type": "markdown",
   "metadata": {},
   "source": [
    "Python can often use a different method to print a float value than the method used to give it as input.\n",
    "\n",
    "For example, if you were to print \"0.0000000000000000001\", Python will return the value `1e-19`, as it prioritizes the shorter way of printing floats."
   ]
  },
  {
   "cell_type": "code",
   "execution_count": null,
   "metadata": {},
   "outputs": [],
   "source": [
    "print(0.0000000000000000001)"
   ]
  },
  {
   "attachments": {},
   "cell_type": "markdown",
   "metadata": {},
   "source": [
    "#### Strings"
   ]
  },
  {
   "attachments": {},
   "cell_type": "markdown",
   "metadata": {},
   "source": [
    "Strings are used to express text, and are required to be contained within quotes. They can also be void, and not contain any text, such as `\"\"`, or `''`."
   ]
  },
  {
   "attachments": {},
   "cell_type": "markdown",
   "metadata": {},
   "source": [
    "\n",
    "If you were to print a string that contains in itself quotes, there are two possible solutions:\n",
    "\n",
    "The first is to simply use the escape character, and the second, is to use single quotes around the string, and use double quotes inside the string."
   ]
  },
  {
   "cell_type": "code",
   "execution_count": null,
   "metadata": {},
   "outputs": [],
   "source": [
    "print(\"She said \\\"Where we goin'?\\\", I said \\\"The moon\\\".\")\n",
    "print('She said \"Where we goin\\'?\", I said \"The moon\".')"
   ]
  },
  {
   "attachments": {},
   "cell_type": "markdown",
   "metadata": {},
   "source": [
    "#### Booleans"
   ]
  },
  {
   "attachments": {},
   "cell_type": "markdown",
   "metadata": {},
   "source": [
    "Booleans are data types that express truthfulness (or lack of it). When you ask Python if `x > y`, the answer (True / False) is a boolean. In numeric context, True equals 1, as False equals 0.\n",
    "\n",
    "The concept of booleans comes from Boolean algebra, a branch of algebra that makes use of only two distinct values: True and False, denoted as 1 and 0, respectively.\n",
    "\n",
    "These concepts are very rigorously denoted, and are immutable and case-sensitive."
   ]
  },
  {
   "cell_type": "code",
   "execution_count": null,
   "metadata": {},
   "outputs": [],
   "source": [
    "print(True == False + 1)"
   ]
  },
  {
   "attachments": {},
   "cell_type": "markdown",
   "metadata": {},
   "source": [
    "#### None"
   ]
  },
  {
   "attachments": {},
   "cell_type": "markdown",
   "metadata": {},
   "source": [
    "There is one final literal type in Python, and a special one in it, that is `None`. It is also called `NoneType` object, and is used to represent absence of value."
   ]
  },
  {
   "attachments": {},
   "cell_type": "markdown",
   "metadata": {},
   "source": [
    "### Section 2.3 - Operators"
   ]
  },
  {
   "attachments": {},
   "cell_type": "markdown",
   "metadata": {},
   "source": []
  }
 ],
 "metadata": {
  "kernelspec": {
   "display_name": "Python 3",
   "language": "python",
   "name": "python3"
  },
  "language_info": {
   "codemirror_mode": {
    "name": "ipython",
    "version": 3
   },
   "file_extension": ".py",
   "mimetype": "text/x-python",
   "name": "python",
   "nbconvert_exporter": "python",
   "pygments_lexer": "ipython3",
   "version": "3.10.10"
  },
  "orig_nbformat": 4,
  "vscode": {
   "interpreter": {
    "hash": "26de051ba29f2982a8de78e945f0abaf191376122a1563185a90213a26c5da77"
   }
  }
 },
 "nbformat": 4,
 "nbformat_minor": 2
}
